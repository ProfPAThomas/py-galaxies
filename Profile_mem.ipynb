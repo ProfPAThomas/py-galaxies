{
 "cells": [
  {
   "cell_type": "markdown",
   "id": "3772726c",
   "metadata": {},
   "source": [
    "# Script to analyse and visualise memory usage"
   ]
  },
  {
   "cell_type": "code",
   "execution_count": null,
   "id": "52b325f5",
   "metadata": {},
   "outputs": [],
   "source": [
    "import linecache\n",
    "import numpy as np\n",
    "import pickle\n",
    "import matplotlib.pyplot as plt\n",
    "%matplotlib inline\n",
    "import seaborn as sns\n",
    "sns.set_context('poster')\n",
    "sns.set_style('whitegrid')\n",
    "import tracemalloc as tm"
   ]
  },
  {
   "cell_type": "code",
   "execution_count": null,
   "id": "b7539fbf",
   "metadata": {},
   "outputs": [],
   "source": [
    "#run_name='python_gc'\n",
    "run_name='python'\n",
    "file_profile='output/'+run_name+'_profile_mem.pkl'\n",
    "file_png_prefix='anal/figs/'+run_name+'_'"
   ]
  },
  {
   "cell_type": "code",
   "execution_count": null,
   "id": "aaf76788",
   "metadata": {},
   "outputs": [],
   "source": [
    "def display_top(snapshot, key_type='lineno', limit=10):\n",
    "    snapshot = snapshot.filter_traces((\n",
    "        tm.Filter(False, \"<frozen importlib._bootstrap>\"),\n",
    "        tm.Filter(False, \"<unknown>\"),\n",
    "    ))\n",
    "    top_stats = snapshot.statistics(key_type)\n",
    "\n",
    "    print(\"Top %s lines\" % limit)\n",
    "    for index, stat in enumerate(top_stats[:limit], 1):\n",
    "        frame = stat.traceback[0]\n",
    "        print(\"#%s: %s:%s: %.1f KiB\"\n",
    "              % (index, frame.filename, frame.lineno, stat.size / 1024))\n",
    "        line = linecache.getline(frame.filename, frame.lineno).strip()\n",
    "        if line:\n",
    "            print('    %s' % line)\n",
    "\n",
    "    other = top_stats[limit:]\n",
    "    if other:\n",
    "        size = sum(stat.size for stat in other)\n",
    "        print(\"%s other: %.1f KiB\" % (len(other), size / 1024))\n",
    "    total = sum(stat.size for stat in top_stats)\n",
    "    print(\"Total allocated size: %.1f KiB\" % (total / 1024))"
   ]
  },
  {
   "cell_type": "code",
   "execution_count": null,
   "id": "7baa6ae8",
   "metadata": {},
   "outputs": [],
   "source": [
    "with open(file_profile,'rb') as f:\n",
    "    mem_data=pickle.load(f)\n",
    "    mem_snap=pickle.load(f)\n",
    "display_top(mem_snap,limit=20)    \n",
    "#print('mem_data =',mem_data)"
   ]
  },
  {
   "cell_type": "code",
   "execution_count": null,
   "id": "ae6ebbe5",
   "metadata": {},
   "outputs": [],
   "source": [
    "# Plot (graph) size and peak size over time\n",
    "# Extract graph exectution times: there must be an easier way than this!\n",
    "graph_mask=list(key.find('Graph')>=0 for key in mem_data.keys())\n",
    "graph_keys=np.array(list(key for key in mem_data.keys()))[graph_mask]\n",
    "graph_mem_size=np.array(list(mem_data[graph_keys[i]]['mem_size'][0] for i in range(len(graph_keys))))\n",
    "graph_mem_peak=np.array(list(mem_data[graph_keys[i]]['mem_peak'][0] for i in range(len(graph_keys))))\n",
    "\n",
    "n_graph=len(graph_mem_size)\n",
    "plt.figure(figsize=[12,8])\n",
    "plt.semilogy(np.arange(n_graph),graph_mem_size/1e6,'-',label='size')\n",
    "plt.plot(np.arange(n_graph),graph_mem_peak/1e6,'-',label='peak')\n",
    "plt.title('Memory usage during graph traversal')\n",
    "plt.xlabel(r'Graph number)')\n",
    "plt.ylabel(r'Graph $\\log_{10}$(Memory usage / MB)')\n",
    "plt.legend()\n",
    "plt.savefig(file_png_prefix+'mem.png',bbox_inches='tight')"
   ]
  },
  {
   "cell_type": "code",
   "execution_count": null,
   "id": "5f1618dd",
   "metadata": {},
   "outputs": [],
   "source": []
  }
 ],
 "metadata": {
  "language_info": {
   "name": "python",
   "pygments_lexer": "ipython3"
  }
 },
 "nbformat": 4,
 "nbformat_minor": 5
}
