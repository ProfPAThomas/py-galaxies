{
 "cells": [
  {
   "cell_type": "markdown",
   "id": "9767afc6",
   "metadata": {},
   "source": [
    "# Testing C-integration"
   ]
  },
  {
   "cell_type": "markdown",
   "id": "aec308e7",
   "metadata": {},
   "source": [
    "Here’s the gist of it:\n",
    "\n",
    "```template=np.empty(1,dtype=np.dtype(D_gal,align=True))\n",
    "gals=np.full(n_gal,template)```\n",
    "\n",
    "The key here being the `align=True` in the generation of the galaxy template.\n",
    "\n",
    "```C_lib.make_stars.argtypes=(np.ctypeslib.ndpointer(gals.dtype),ctypes.c_double)```\n",
    "\n",
    "The `ndpointer` function generates a pointer to the numpy datatype.\n",
    "\n",
    "```C_lib.make_stars(gals[i_gal:i_gal+1],ctypes.c_double(i_gal))```\n",
    "\n",
    "The only weird thing here is that `gals[i_gal]` is not a numpy array and throws type errors.  However, `gals[i_gal:i_gal+1]` is a view to the same object that is a numpy array."
   ]
  },
  {
   "cell_type": "code",
   "execution_count": null,
   "id": "9b7ba8b4",
   "metadata": {},
   "outputs": [],
   "source": [
    "import ctypes\n",
    "import numpy as np"
   ]
  },
  {
   "cell_type": "code",
   "execution_count": null,
   "id": "189e1368",
   "metadata": {},
   "outputs": [],
   "source": [
    "print('Python:')\n",
    "\n",
    "# Create some dummy galaxy data for use in testing\n",
    "n_gal=10\n",
    "\n",
    "# Create the dtype that we will need to store galaxy properties.\n",
    "D_gal=[\n",
    "   ('gal_gid',ctypes.c_int),      # The unique identifier for this galaxy\n",
    "   ('b_exists',ctypes.c_bool),\n",
    "   ('mass_stars',ctypes.c_double)\n",
    "]\n",
    "\n",
    "NDI=-2147483648\n",
    "template=np.empty(1,dtype=np.dtype(D_gal,align=True))\n",
    "template['gal_gid']=NDI\n",
    "template['b_exists']=False\n",
    "template['mass_stars']=0.\n",
    "\n",
    "gals=np.full(n_gal,template)\n",
    "for i_gal in range(n_gal):\n",
    "    gals['gal_gid'][i_gal]=i_gal\n",
    "    gals['b_exists']=True\n",
    "    gals['mass_stars']=0.\n",
    "    \n",
    "print(gals)\n",
    "print(template.dtype.itemsize)"
   ]
  },
  {
   "cell_type": "code",
   "execution_count": null,
   "id": "95f319c6",
   "metadata": {},
   "outputs": [],
   "source": [
    "# Python version of functions\n",
    "def make_stars(gal,new_stars):\n",
    "    gal['mass_stars']+=new_stars\n",
    "    return None\n",
    "\n",
    "def merge_gals(gal1,gal2):\n",
    "    gal1['mass_stars']+=gal2['mass_stars']\n",
    "    gal2['mass_stars']=0.\n",
    "    gal2['b_exists']=False\n",
    "    return None"
   ]
  },
  {
   "cell_type": "code",
   "execution_count": null,
   "id": "3c120433",
   "metadata": {},
   "outputs": [],
   "source": [
    "# Main program\n",
    "for i_gal in range(n_gal):\n",
    "    make_stars(gals[i_gal],float(i_gal))\n",
    "for i_gal in range(0,n_gal,2):\n",
    "    merge_gals(gals[i_gal],gals[i_gal+1])\n",
    "print(gals)\n",
    "print()"
   ]
  },
  {
   "cell_type": "code",
   "execution_count": null,
   "id": "cd8fee06",
   "metadata": {},
   "outputs": [],
   "source": [
    "print('ctypes:')\n",
    "\n",
    "# Now set up use of C version of the program\n",
    "import ctypes\n",
    "\n",
    "# Note: adding \",flags='contiguous',aligned'\"\" to the ndpointer call seems to make no difference.\n",
    "C_lib=ctypes.CDLL('lib_C.so')\n",
    "C_lib.make_stars.argtypes=(np.ctypeslib.ndpointer(gals.dtype),ctypes.c_double)\n",
    "C_lib.make_stars.restype=None\n",
    "C_lib.merge_gals.argtypes=(np.ctypeslib.ndpointer(gals.dtype),np.ctypeslib.ndpointer(gals.dtype))\n",
    "C_lib.merge_gals.restype=None\n"
   ]
  },
  {
   "cell_type": "code",
   "execution_count": null,
   "id": "2d4fc170",
   "metadata": {},
   "outputs": [],
   "source": [
    "# And initialise and run C version of the program\n",
    "\n",
    "gals=np.full(n_gal,template)\n",
    "for i_gal in range(n_gal):\n",
    "    gals['gal_gid'][i_gal]=i_gal\n",
    "    gals['b_exists']=True\n",
    "    gals['mass_stars']=0.\n",
    "print(gals)\n",
    "    \n",
    "for i_gal in range(n_gal):\n",
    "    C_lib.make_stars(gals[i_gal:i_gal+1],ctypes.c_double(i_gal))\n",
    "for i_gal in range(0,n_gal,2):\n",
    "    C_lib.merge_gals(gals[i_gal:i_gal+1],gals[i_gal+1:i_gal+2])\n",
    "    \n",
    "print(gals)\n",
    "print()"
   ]
  },
  {
   "cell_type": "code",
   "execution_count": null,
   "id": "bc8cbe4b",
   "metadata": {},
   "outputs": [],
   "source": [
    "print('Structures:')\n",
    "\n",
    "# Can do it like this using an explict structure definition,\n",
    "# but frankly that is a real pain and would be MUCH better to \n",
    "# get it to work using numpy structured arrays.\n",
    "\n",
    "import ctypes\n",
    "\n",
    "class gal_struct(ctypes.Structure):\n",
    "    _fields_ = [\n",
    "           ('gal_gid',ctypes.c_int),\n",
    "           ('b_exists',ctypes.c_bool),\n",
    "           ('mass_stars',ctypes.c_double),\n",
    "           ('padding',ctypes.c_double)\n",
    "    ]\n",
    "gals = (gal_struct*10)()\n",
    "for i_gal in range(n_gal):\n",
    "    gals[i_gal].gal_gid=i_gal\n",
    "    gals[i_gal].b_exists=True\n",
    "    gals[i_gal].mass_stars=0.\n",
    "\n",
    "C_lib=ctypes.CDLL('lib_C.so')\n",
    "C_lib.make_stars.argtypes=(ctypes.POINTER(gal_struct),ctypes.c_double)\n",
    "C_lib.make_stars.restype=None\n",
    "C_lib.merge_gals.argtypes=(ctypes.POINTER(gal_struct),ctypes.POINTER(gal_struct))\n",
    "C_lib.merge_gals.restype=None"
   ]
  },
  {
   "cell_type": "code",
   "execution_count": null,
   "id": "4593d944",
   "metadata": {},
   "outputs": [],
   "source": [
    "n_gal=10\n",
    "for i_gal in range(n_gal):\n",
    "    C_lib.make_stars(ctypes.byref(gals[i_gal]),float(i_gal))\n",
    "for i_gal in range(0,n_gal,2):\n",
    "    C_lib.merge_gals(gals[i_gal],gals[i_gal+1])\n",
    "    \n",
    "for i_gal in range(n_gal):\n",
    "    print(gals[i_gal].gal_gid,gals[i_gal].b_exists,gals[i_gal].mass_stars)"
   ]
  },
  {
   "cell_type": "markdown",
   "id": "8de4477b",
   "metadata": {},
   "source": [
    "### Creating a struct of parameters\n",
    "\n",
    "Next we create a C struct of the attributes of the parameters C_parameters class instance."
   ]
  },
  {
   "cell_type": "code",
   "execution_count": null,
   "id": "d8cce8a6",
   "metadata": {},
   "outputs": [],
   "source": [
    "class C_parameters:\n",
    "    def __init__(self,a=1,b=2.):\n",
    "        self.a=a\n",
    "        self.b=b\n",
    "        self.c='three'\n",
    "        self.d=False\n",
    "    def set_d(self,true_or_false):\n",
    "        self.d=true_or_false\n",
    "        \n",
    "parameters=C_parameters()\n",
    "parameters.set_d(True)\n",
    "parameters.e=2.718281828\n",
    "\n",
    "dir(parameters)"
   ]
  },
  {
   "cell_type": "code",
   "execution_count": null,
   "id": "08175e9c",
   "metadata": {},
   "outputs": [],
   "source": [
    "attributes=[a for a in dir(parameters) if not a.startswith('__') and not callable(getattr(parameters, a))]\n",
    "f=open('parameters.h','w')\n",
    "f.write('/* Runtime parameters (fixed throughout run). */\\n\\\n",
    "\\n\\\n",
    "#include <stdbool.h>\\n\\\n",
    "\\n\\\n",
    "struct {\\n\\\n",
    "')\n",
    "for a in attributes:\n",
    "    value=eval('parameters.'+a)\n",
    "    a_type=str(type(value)).split('\\'')[1]\n",
    "    print(a,a_type,value)\n",
    "    if a_type == 'str':\n",
    "        f.write('    char* '+a+'=\"'+str(value)+'\";\\n')\n",
    "    elif a_type == 'bool':\n",
    "        if value==True:\n",
    "            f.write('    '+a_type+' '+a+'=true;\\n')\n",
    "        else:\n",
    "            f.write('    '+a_type+' '+a+'=false;\\n')\n",
    "    else:\n",
    "        f.write('    '+a_type+' '+a+'='+str(value)+';\\n')\n",
    "f.write('}; parameters;\\n')\n",
    "f.close()\n"
   ]
  },
  {
   "cell_type": "code",
   "execution_count": null,
   "id": "ccb4bd64",
   "metadata": {},
   "outputs": [],
   "source": [
    "d={'one':1,'two':2,'three':3}"
   ]
  },
  {
   "cell_type": "code",
   "execution_count": null,
   "id": "999fcc7c",
   "metadata": {},
   "outputs": [],
   "source": [
    "'one' in d"
   ]
  },
  {
   "cell_type": "markdown",
   "id": "d4fb4904",
   "metadata": {},
   "source": []
  }
 ],
 "metadata": {
  "language_info": {
   "name": "python",
   "pygments_lexer": "ipython3"
  }
 },
 "nbformat": 4,
 "nbformat_minor": 5
}
