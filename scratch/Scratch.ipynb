{
 "cells": [
  {
   "cell_type": "markdown",
   "metadata": {},
   "source": [
    "## Dummy data"
   ]
  },
  {
   "cell_type": "code",
   "execution_count": null,
   "metadata": {},
   "outputs": [],
   "source": [
    "# Some dummy input just to test structure\n",
    "from copy import deepcopy\n",
    "\n",
    "dummyHaloDict={'Halos': np.array([0,1,2,3,4])}\n",
    "nHaloDict=len(dummyHaloDict['Halos'])\n",
    "snaps=(3,4,5,6,7,8)\n",
    "nSnap=len(snaps)\n",
    "nGraph=3\n",
    "# Spent AGES on this.  You need to deepcopy to avoid getting pointers\n",
    "graphs=list({snap:deepcopy(dummyHaloDict) for snap in snaps} for iGraph in range(nGraph))\n",
    "nHaloInGraph=nSnap*nHaloDict\n",
    "nHalo=nGraph*nHaloInGraph\n",
    "iGraph=0\n",
    "for graph in graphs:\n",
    "    #print('graph ',iGraph)\n",
    "    iSnap=0\n",
    "    for snap in snaps:\n",
    "        #print('snap ',iSnap)\n",
    "        graph[snap]['Halos']+=iGraph*nHaloInGraph+iSnap*nHaloDict\n",
    "        #print(graph[snap]['Halos'])\n",
    "        iSnap+=1\n",
    "    iGraph+=1"
   ]
  },
  {
   "cell_type": "markdown",
   "metadata": {},
   "source": [
    "## Testing h5py writing"
   ]
  },
  {
   "cell_type": "code",
   "execution_count": null,
   "metadata": {},
   "outputs": [],
   "source": [
    "import h5py\n",
    "import numpy as np"
   ]
  },
  {
   "cell_type": "code",
   "execution_count": null,
   "metadata": {},
   "outputs": [],
   "source": [
    "file=h5py.File('output/test.hdf5','w')"
   ]
  },
  {
   "cell_type": "code",
   "execution_count": null,
   "metadata": {},
   "outputs": [],
   "source": [
    "nRec=10\n",
    "dtype_test=np.dtype([('square',np.int32)])\n",
    "dataset=file.create_dataset('Test',(0,),maxshape=(None,),dtype=dtype_test,compression='gzip')\n",
    "data=np.array(np.arange(nRec)**2,dtype=dtype_test)\n",
    "dataset.resize((dataset.shape[0]+nRec,))\n",
    "dataset[-nRec:]=data"
   ]
  },
  {
   "cell_type": "code",
   "execution_count": null,
   "metadata": {},
   "outputs": [],
   "source": [
    "file.close()"
   ]
  },
  {
   "cell_type": "markdown",
   "metadata": {},
   "source": [
    "## Testing changing variables in def\n",
    "\n",
    "We can do this using `global` for the main routine, or `nonlocal` if we want to restrict to the closest, non-global level.\n",
    "\n",
    "Unfortunately, you don't seem to be able to both explicit name a parameter **and** declare it as either `global` or `nonlocal`.\n",
    "\n",
    "So need to specify as a return parameter if we want to make the dependence explicit.  This is presumably slightly slower than using `global` or `nonlocal` but probably worth it to save coding errors."
   ]
  },
  {
   "cell_type": "code",
   "execution_count": null,
   "metadata": {},
   "outputs": [],
   "source": [
    "def myfunc1(a):\n",
    "    global b\n",
    "    a+=1\n",
    "    b+=1\n",
    "\n",
    "def myfunc2(a,b):\n",
    "    # Uncommenting the following line gives an error message\n",
    "#    global b\n",
    "    a+=1\n",
    "    b+=1\n",
    "\n",
    "def myfunc3(a,b):\n",
    "    a+=1\n",
    "    b+=1\n",
    "    return b\n",
    "\n",
    "a=0\n",
    "b=0\n",
    "print('a, b =',a,b)\n",
    "for i in range(5):\n",
    "    myfunc1(a)\n",
    "    print('a, b =',a,b)\n",
    "    \n",
    "a=0\n",
    "b=0\n",
    "print('\\na, b =',a,b)\n",
    "for i in range(5):\n",
    "    myfunc2(a,b)\n",
    "    print('a, b =',a,b)\n",
    "\n",
    "a=0\n",
    "b=0\n",
    "print('\\na, b =',a,b)\n",
    "for i in range(5):\n",
    "    b=myfunc3(a,b)\n",
    "    print('a, b =',a,b)"
   ]
  },
  {
   "cell_type": "code",
   "execution_count": null,
   "metadata": {},
   "outputs": [],
   "source": [
    "# Testing use of run-time flags whilst still catching exceptions\n",
    "\n",
    "b_flag=False\n",
    "\n",
    "try:\n",
    "    if b_flag==True:\n",
    "        print('entered try loop')\n",
    "        del a\n",
    "        print('a =',a)\n",
    "except:\n",
    "    pass\n",
    "\n",
    "if 'b_flag' in locals() and b_flag==True:\n",
    "    print('entered if clause')\n",
    "else:\n",
    "    print('avoided if clause')"
   ]
  },
  {
   "cell_type": "code",
   "execution_count": null,
   "metadata": {},
   "outputs": [],
   "source": [
    "# Testing chaning flags only if they don't already exist\n",
    "b_flag=False\n",
    "try:\n",
    "    b_flag\n",
    "except:\n",
    "    b_flag=True\n",
    "print(b_flag)"
   ]
  },
  {
   "cell_type": "code",
   "execution_count": null,
   "metadata": {},
   "outputs": [],
   "source": [
    "# Testing finding matching element in array\n",
    "import numpy as np\n",
    "a = np.arange(10,dtype=np.int32)\n",
    "b = 4\n",
    "a[a==b] = -4\n",
    "a"
   ]
  },
  {
   "cell_type": "code",
   "execution_count": null,
   "metadata": {},
   "outputs": [],
   "source": [
    "# Testing control flow indentation\n",
    "a = 4\n",
    "# Single statements on the same line are allowed,\n",
    "if a==4: print(a)\n",
    "# and this is allowed,\n",
    "if a==4: \n",
    "    for b in range(4): print(a,b,a-b)\n",
    "# but it seems as if multiple control statements are not \n",
    "#if a==4: for b in range(4): print(a,b,a-b)"
   ]
  },
  {
   "cell_type": "code",
   "execution_count": null,
   "metadata": {},
   "outputs": [],
   "source": [
    "# Testing astropy units\n",
    "import astropy.units as u\n",
    "import astropy.constants as c"
   ]
  },
  {
   "cell_type": "code",
   "execution_count": null,
   "metadata": {},
   "outputs": [],
   "source": [
    "frac=0.6\n",
    "assert 0 <= frac <=1"
   ]
  },
  {
   "cell_type": "code",
   "execution_count": null,
   "metadata": {},
   "outputs": [],
   "source": [
    "# Testing selection of table location \n",
    "import numpy as np\n",
    "log10_Z_table = np.array([    -np.inf, -4.69897, -3.69897, -3.19897, -2.69897, -2.19897, -1.69897, -1.19897])\n",
    "lambda_array = np.array([0,1,2,3,4,5,6,7])\n",
    "log10_Z = -4.6\n",
    "i_Z = np.where(log10_Z_table>log10_Z)[0][0]\n",
    "fracZ=(log10_Z-log10_Z_table[i_Z-1])/(log10_Z_table[i_Z]-log10_Z_table[i_Z-1])\n",
    "llambda=fracZ*lambda_array[i_Z]+(1-fracZ)*lambda_array[i_Z-1]\n",
    "llambda"
   ]
  },
  {
   "cell_type": "code",
   "execution_count": null,
   "metadata": {},
   "outputs": [],
   "source": [
    "# Testing isinstance for numpy arrays\n",
    "import numpy as np\n",
    "arr = np.array([1.,2.,3.])\n",
    "arr=None\n",
    "isinstance(arr,np.ndarray)"
   ]
  },
  {
   "cell_type": "code",
   "execution_count": null,
   "metadata": {},
   "outputs": [],
   "source": [
    "# Import testing\n",
    "import pickle\n",
    "import sys\n",
    "sys.path.insert(1,'code-python')\n",
    "\n",
    "b_flag='True'\n",
    "\n",
    "import commons\n",
    "commons.save('b_flag',True)\n",
    "\n",
    "# b_flag = True\n",
    "# with open('test_import.pkl','wb') as f:\n",
    "#     pickle.dump(b_flag,f)\n",
    "\n",
    "from test_import import func1\n",
    "\n",
    "func1()"
   ]
  },
  {
   "cell_type": "code",
   "execution_count": null,
   "metadata": {},
   "outputs": [],
   "source": [
    "import numpy as np\n",
    "SFH_nbin=2\n",
    "n_bin=1220\n",
    "SFH_nbin*int(1+0.999999*np.log2(n_bin/SFH_nbin))+1"
   ]
  },
  {
   "cell_type": "code",
   "execution_count": null,
   "metadata": {},
   "outputs": [],
   "source": [
    "# To show how python does its best to f*** you up\n",
    "class test:\n",
    "    \"\"\"A dummy class\"\"\"\n",
    "\n",
    "object=test()\n",
    "\n",
    "b=2.\n",
    "\n",
    "object.a=1.\n",
    "c=min(b,object.a)\n",
    "print('c =',c)\n",
    "print('c is object.a=',c is object.a)\n",
    "object.a -= c\n",
    "print('c =',c)\n",
    "print('c is object.a=',c is object.a)"
   ]
  },
  {
   "cell_type": "code",
   "execution_count": null,
   "metadata": {},
   "outputs": [],
   "source": [
    "import numpy as np\n",
    "D_gal=[\n",
    "   ('graph_ID',np.int32),\n",
    "   ('snap_ID',np.int32),\n",
    "   ('halo_gid',np.int32),\n",
    "   ('halo_sid',np.int32),\n",
    "   ('sub_gid',np.int32),\n",
    "   ('sub_sid',np.int32),\n",
    "   ('gal_gid',np.int32),      # The unique identifier for this galaxy within this graph; should match location in output file\n",
    "   ('gal_sid',np.int32),\n",
    "   ('desc_gid',np.int32),\n",
    "   ('first_prog_gid',np.int32),\n",
    "   ('next_prog_gid',np.int32),\n",
    "   ('b_exists',bool),\n",
    "   ('v_vir',np.float32),      # Virial speed of host halo\n",
    "   ('mass_stars_bulge',np.float32),\n",
    "   ('mass_metals_stars_bulge',np.float32),\n",
    "   ('mass_stars_disc',np.float32),\n",
    "   ('mass_metals_stars_disc',np.float32),\n",
    "   ('mass_gas_cold',np.float32),\n",
    "   ('mass_metals_gas_cold',np.float32),\n",
    "   ('mass_BH',np.float32),\n",
    "   ('mass_metals_BH',np.float32),   # Metals have no meaning in a BH but useful for tracking\n",
    "   ('mass_baryon',np.float32),      # Includes BHs.  Effectively equivalent to total mass of galaxy (assuming no DM).\n",
    "   ('radius_gas_cold',np.float32),  # Exponential disc radius\n",
    "   ('radius_stars_disc',np.float32), # Exponential disc radius\n",
    "   ('radius_stars_bulge',np.float32), # Half mass radius\n",
    "   ('SFR_dt',np.float32),\n",
    "   ('SFR_snap',np.float32)]\n",
    "NDI=-2147483648\n",
    "template=np.empty(1,dtype=D_gal)\n",
    "template['graph_ID']=NDI\n",
    "template['snap_ID']=NDI\n",
    "template['halo_gid']=NDI\n",
    "template['halo_sid']=NDI\n",
    "template['sub_gid']=NDI\n",
    "template['sub_sid']=NDI\n",
    "template['gal_gid']=0 # Because there are no galaxies prior to the first snapshot; updated each snap.\n",
    "template['desc_gid']=NDI\n",
    "template['first_prog_gid']=NDI\n",
    "template['next_prog_gid']=NDI\n",
    "template['b_exists']=False\n",
    "template['v_vir']=0.\n",
    "template['mass_stars_bulge']=0.\n",
    "template['mass_metals_stars_bulge']=0.\n",
    "template['mass_stars_disc']=0.\n",
    "template['mass_metals_stars_disc']=0.\n",
    "template['mass_gas_cold']=0.\n",
    "template['mass_metals_gas_cold']=0.\n",
    "template['mass_BH']=0.\n",
    "template['mass_metals_BH']=0.\n",
    "template['mass_baryon']=0.\n",
    "template['radius_gas_cold']=0.\n",
    "template['radius_stars_disc']=0.\n",
    "template['radius_stars_bulge']=0.\n",
    "template['SFR_dt']=0.\n",
    "template['SFR_snap']=0.\n",
    "\n",
    "n_gal=10000\n",
    "gals=np.full(n_gal,template)"
   ]
  },
  {
   "cell_type": "code",
   "execution_count": null,
   "metadata": {},
   "outputs": [],
   "source": [
    "%timeit for gal in gals: gal['mass_gas_cold']+=1.\n",
    "%timeit for i_gal in range(n_gal): gals['mass_gas_cold'][i_gal]+=1.\n",
    "mass_gas_cold=gals['mass_gas_cold']  # This equivalences individual entries, but not the whole array!\n",
    "%timeit for i_gal in range(n_gal): mass_gas_cold[i_gal]+=1.\n",
    "mass_gas_cold=np.array(gals['mass_gas_cold'])\n",
    "%timeit for i_gal in range(n_gal): mass_gas_cold[i_gal]+=1."
   ]
  },
  {
   "cell_type": "code",
   "execution_count": null,
   "metadata": {},
   "outputs": [],
   "source": [
    "mass_gas_cold=gals['mass_gas_cold']  # This equivalences individual entries, but not the whole array!\n",
    "print(mass_gas_cold[5] is gals['mass_gas_cold'][5])"
   ]
  },
  {
   "cell_type": "code",
   "execution_count": null,
   "metadata": {},
   "outputs": [],
   "source": [
    "%timeit for gal in gals: gal=template.copy()\n",
    "%timeit for i_gal in range(n_gal): gals[i_gal]=template.copy()\n"
   ]
  },
  {
   "cell_type": "markdown",
   "metadata": {},
   "source": [
    "## Testing whether math functions in C return exactly the same values as in python\n"
   ]
  },
  {
   "cell_type": "code",
   "execution_count": null,
   "metadata": {},
   "outputs": [],
   "source": [
    "import ctypes\n",
    "import numpy as np\n",
    "\n",
    "# Note: adding \",flags='contiguous',aligned'\"\" to the ndpointer call seems to make no difference.\n",
    "C_lib=ctypes.CDLL('lib_C.so')\n",
    "C_lib.F_exp.argtypes=(ctypes.c_double,)\n",
    "C_lib.F_exp.restype=ctypes.c_double\n",
    "C_lib.F_log.argtypes=(ctypes.c_double,)\n",
    "C_lib.F_log.restype=ctypes.c_double\n",
    "C_lib.F_log10.argtypes=(ctypes.c_double,)\n",
    "C_lib.F_log10.restype=ctypes.c_double\n",
    "C_lib.F_pow.argtypes=(ctypes.c_double,ctypes.c_double)\n",
    "C_lib.F_pow.restype=ctypes.c_double\n"
   ]
  },
  {
   "cell_type": "code",
   "execution_count": null,
   "metadata": {},
   "outputs": [],
   "source": [
    "x=np.logspace(-10,10)\n",
    "print('log:')\n",
    "for x in np.logspace(-10,10):\n",
    "    print(x,np.log(x),C_lib.F_log(x),np.log(x)-C_lib.F_log(x))\n",
    "print('log10:')\n",
    "for x in np.logspace(-10,10):\n",
    "    print(x,np.log10(x),C_lib.F_log10(x),np.log10(x)-C_lib.F_log10(x))\n",
    "print('pow(,3):')\n",
    "for x in np.logspace(-10,10):\n",
    "    print(x,x**3,C_lib.F_pow(x,3),x**3-C_lib.F_pow(x,3))"
   ]
  },
  {
   "cell_type": "code",
   "execution_count": null,
   "metadata": {},
   "outputs": [],
   "source": [
    "# Testing inheritance of names in class/instance creation\n",
    "class C_test:\n",
    "    template='template'\n",
    "    def __init__(self):\n",
    "        self.name='name'\n",
    "        print(C_test.template)"
   ]
  },
  {
   "cell_type": "code",
   "execution_count": null,
   "metadata": {},
   "outputs": [],
   "source": [
    "test1=C_test()"
   ]
  },
  {
   "cell_type": "code",
   "execution_count": null,
   "metadata": {},
   "outputs": [],
   "source": [
    "# Creating a structure from the entries in a dictionary.\n",
    "dictionary = dict([('a',1),('b',2.),('c',True),('d','4.0')])\n",
    "dictionary.items()"
   ]
  },
  {
   "cell_type": "code",
   "execution_count": null,
   "metadata": {},
   "outputs": [],
   "source": [
    "import ctypes\n",
    "fields=[]\n",
    "for key, value in dictionary.items():\n",
    "    print(key, value, type(value), type(value)==int)\n",
    "    if type(value)==bool:\n",
    "        fields.append((key,ctypes.c_bool))\n",
    "    elif type(value)==int:\n",
    "        fields.append((key,ctypes.c_int))\n",
    "    elif type(value)==float:\n",
    "        fields.append((key,ctypes.c_double))\n",
    "    elif type(value)==str:\n",
    "        fields.append((key,ctypes.c_wchar*len(value)))\n",
    "    else:\n",
    "        raise ValueError('Unsupported type')\n",
    "print(fields)\n"
   ]
  },
  {
   "cell_type": "code",
   "execution_count": null,
   "metadata": {},
   "outputs": [],
   "source": [
    "class C_variables(ctypes.Structure):\n",
    "    _fields_=fields\n",
    "variables=C_variables()"
   ]
  },
  {
   "cell_type": "code",
   "execution_count": null,
   "metadata": {},
   "outputs": [],
   "source": [
    "variables.a=1\n",
    "variables.b=2.\n",
    "variables.c=True\n",
    "variables.d='4.0'"
   ]
  },
  {
   "cell_type": "code",
   "execution_count": null,
   "metadata": {},
   "outputs": [],
   "source": [
    "for i in range(0):\n",
    "    print(i)"
   ]
  }
 ],
 "metadata": {
  "language_info": {
   "name": "python",
   "pygments_lexer": "ipython3"
  }
 },
 "nbformat": 4,
 "nbformat_minor": 2
}
