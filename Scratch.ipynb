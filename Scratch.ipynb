{
 "cells": [
  {
   "cell_type": "markdown",
   "metadata": {},
   "source": [
    "## Dummy data"
   ]
  },
  {
   "cell_type": "code",
   "execution_count": null,
   "metadata": {},
   "outputs": [],
   "source": [
    "# Some dummy input just to test structure\n",
    "from copy import deepcopy\n",
    "\n",
    "dummyHaloDict={'Halos': np.array([0,1,2,3,4])}\n",
    "nHaloDict=len(dummyHaloDict['Halos'])\n",
    "snaps=(3,4,5,6,7,8)\n",
    "nSnap=len(snaps)\n",
    "nGraph=3\n",
    "# Spent AGES on this.  You need to deepcopy to avoid getting pointers\n",
    "graphs=list({snap:deepcopy(dummyHaloDict) for snap in snaps} for iGraph in range(nGraph))\n",
    "nHaloInGraph=nSnap*nHaloDict\n",
    "nHalo=nGraph*nHaloInGraph\n",
    "iGraph=0\n",
    "for graph in graphs:\n",
    "    #print('graph ',iGraph)\n",
    "    iSnap=0\n",
    "    for snap in snaps:\n",
    "        #print('snap ',iSnap)\n",
    "        graph[snap]['Halos']+=iGraph*nHaloInGraph+iSnap*nHaloDict\n",
    "        #print(graph[snap]['Halos'])\n",
    "        iSnap+=1\n",
    "    iGraph+=1"
   ]
  },
  {
   "cell_type": "markdown",
   "metadata": {},
   "source": [
    "## Testing h5py writing"
   ]
  },
  {
   "cell_type": "code",
   "execution_count": null,
   "metadata": {},
   "outputs": [],
   "source": [
    "import h5py\n",
    "import numpy as np"
   ]
  },
  {
   "cell_type": "code",
   "execution_count": null,
   "metadata": {},
   "outputs": [],
   "source": [
    "file=h5py.File('output/test.hdf5','w')"
   ]
  },
  {
   "cell_type": "code",
   "execution_count": null,
   "metadata": {},
   "outputs": [],
   "source": [
    "nRec=10\n",
    "dtype_test=np.dtype([('square',np.int32)])\n",
    "dataset=file.create_dataset('Test',(0,),maxshape=(None,),dtype=dtype_test,compression='gzip')\n",
    "data=np.array(np.arange(nRec)**2,dtype=dtype_test)\n",
    "dataset.resize((dataset.shape[0]+nRec,))\n",
    "dataset[-nRec:]=data"
   ]
  },
  {
   "cell_type": "code",
   "execution_count": null,
   "metadata": {},
   "outputs": [],
   "source": [
    "file.close()"
   ]
  },
  {
   "cell_type": "markdown",
   "metadata": {},
   "source": [
    "## Testing changing variables in def\n",
    "\n",
    "We can do this using `global` for the main routine, or `nonlocal` if we want to restrict to the closest, non-global level.\n",
    "\n",
    "Unfortunately, you don't seem to be able to both explicit name a parameter **and** declare it as either `global` or `nonlocal`.\n",
    "\n",
    "So need to specify as a return parameter if we want to make the dependence explicit.  This is presumably slightly slower than using `global` or `nonlocal` but probably worth it to save coding errors."
   ]
  },
  {
   "cell_type": "code",
   "execution_count": null,
   "metadata": {},
   "outputs": [],
   "source": [
    "def myfunc1(a):\n",
    "    global b\n",
    "    a+=1\n",
    "    b+=1\n",
    "\n",
    "def myfunc2(a,b):\n",
    "    # Uncommenting the following line gives an error message\n",
    "#    global b\n",
    "    a+=1\n",
    "    b+=1\n",
    "\n",
    "def myfunc3(a,b):\n",
    "    a+=1\n",
    "    b+=1\n",
    "    return b\n",
    "\n",
    "a=0\n",
    "b=0\n",
    "print('a, b =',a,b)\n",
    "for i in range(5):\n",
    "    myfunc1(a)\n",
    "    print('a, b =',a,b)\n",
    "    \n",
    "a=0\n",
    "b=0\n",
    "print('\\na, b =',a,b)\n",
    "for i in range(5):\n",
    "    myfunc2(a,b)\n",
    "    print('a, b =',a,b)\n",
    "\n",
    "a=0\n",
    "b=0\n",
    "print('\\na, b =',a,b)\n",
    "for i in range(5):\n",
    "    b=myfunc3(a,b)\n",
    "    print('a, b =',a,b)"
   ]
  },
  {
   "cell_type": "code",
   "execution_count": null,
   "metadata": {},
   "outputs": [],
   "source": [
    "# Galaxy sizes\n",
    "import astropy.constants as c\n",
    "import astropy.units as u\n",
    "vrot=10.**2.7*u.km/u.s\n",
    "mass=10.**11.3*c.M_sun\n",
    "r=c.G*mass/vrot**2\n",
    "print('radius = {:.3g}'.format(r.to(u.kpc)))"
   ]
  },
  {
   "cell_type": "code",
   "execution_count": null,
   "metadata": {},
   "outputs": [],
   "source": []
  }
 ],
 "metadata": {
  "language_info": {
   "name": "python",
   "pygments_lexer": "ipython3"
  }
 },
 "nbformat": 4,
 "nbformat_minor": 2
}
