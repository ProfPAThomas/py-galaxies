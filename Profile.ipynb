{
 "cells": [
  {
   "cell_type": "markdown",
   "id": "12e07f4d",
   "metadata": {},
   "source": [
    "# Script to analyse and visulaise profile data"
   ]
  },
  {
   "cell_type": "code",
   "execution_count": null,
   "id": "8ecc1d5e",
   "metadata": {},
   "outputs": [],
   "source": [
    "import numpy as np\n",
    "import pickle\n",
    "import matplotlib.pyplot as plt\n",
    "%matplotlib inline\n",
    "import seaborn as sns\n",
    "sns.set_context('poster')\n",
    "sns.set_style('whitegrid')"
   ]
  },
  {
   "cell_type": "code",
   "execution_count": null,
   "id": "181fc3e1",
   "metadata": {},
   "outputs": [],
   "source": [
    "file_profile='output/test_profile_cpu.pkl'"
   ]
  },
  {
   "cell_type": "code",
   "execution_count": null,
   "id": "87042184",
   "metadata": {},
   "outputs": [],
   "source": [
    "with open(file_profile,'rb') as f:\n",
    "    timer_data=pickle.load(f)\n",
    "    Timer_data=pickle.load(f)\n",
    "print('Timer_data =',Timer_data)\n",
    "print('timer_data =',timer_data)"
   ]
  },
  {
   "cell_type": "code",
   "execution_count": null,
   "id": "809dea9c",
   "metadata": {},
   "outputs": [],
   "source": [
    "# Sort function times and plot as histogram\n",
    "\n",
    "# Extract function names and exectution times\n",
    "Timer_sorted = sorted(Timer_data.items(), key=lambda kv: kv[1])\n",
    "func_names=list(item for item,value in Timer_sorted)\n",
    "func_cpu=list(value for item,value in Timer_sorted)\n",
    "\n",
    "fig, ax = plt.subplots(figsize=[12,12])\n",
    "y_pos = np.arange(len(func_names))\n",
    "hbars = ax.barh(y_pos, func_cpu, align='center')\n",
    "ax.set_yticks(y_pos, labels=func_names)\n",
    "#ax.invert_yaxis()  # labels read top-to-bottom\n",
    "ax.set_xlabel('CPU time / s')\n",
    "ax.set_title('Execution time of functions (inclusive of sub-func)')\n",
    "\n",
    "# Label with specially formatted floats\n",
    "ax.bar_label(hbars, fmt='%.2f')\n",
    "ax.set_ylim([0.5,y_pos[-1]+0.5])\n",
    "ax.set_xlim([0,1.15*func_cpu[-1]])  # adjust xlim to fit labels\n",
    "plt.grid(None)\n",
    "plt.savefig('anal/figs/timer_funcs.png',bbox_inches='tight')"
   ]
  },
  {
   "cell_type": "code",
   "execution_count": null,
   "id": "0e1e1fdd",
   "metadata": {},
   "outputs": [],
   "source": [
    "# Create histogram of graph execution times.\n",
    "\n",
    "# Extract graph exectution times: there must be an easier way than this!\n",
    "graph_mask=list(key.find('Graph')>=0 for key in timer_data.keys())\n",
    "graph_keys=np.array(list(key for key in timer_data.keys()))[graph_mask]\n",
    "graph_cpu_times=np.array(list(timer_data[graph_keys[i]]['cpu_time_total'][0] for i in range(len(graph_keys))))\n",
    "\n",
    "#max_cpu_time=np.max(graph_cpu_times)\n",
    "#max_cpu_time=np.max(graph_cpu_times)\n",
    "plt.figure(figsize=[12,8])\n",
    "plt.hist(np.log10(graph_cpu_times),bins=50)\n",
    "plt.title('Graph execution times')\n",
    "plt.xlabel(r'$\\log_{10}$(CPU time / s)')\n",
    "plt.ylabel('Number of graphs')\n",
    "plt.grid(None)\n",
    "plt.savefig('anal/figs/timer_graphs.png',bbox_inches='tight')"
   ]
  },
  {
   "cell_type": "code",
   "execution_count": null,
   "id": "b41ad4da",
   "metadata": {},
   "outputs": [],
   "source": [
    "# Cumulative graph execution times.\n",
    "\n",
    "# Extract graph exectution times: there must be an easier way than this!\n",
    "graph_cpu_times.sort()\n",
    "y=graph_cpu_times.cumsum()\n",
    "\n",
    "#max_cpu_time=np.max(graph_cpu_times)\n",
    "#max_cpu_time=np.max(graph_cpu_times)\n",
    "plt.figure(figsize=[12,8])\n",
    "plt.semilogy(np.log10(graph_cpu_times),y,'-')\n",
    "plt.title('Cumulative graph execution times')\n",
    "plt.xlabel(r'Graph $\\log_{10}$(CPU time / s)')\n",
    "plt.ylabel(r'Cumulative CPU time / s)')\n",
    "plt.savefig('anal/figs/timer_graphs_cum.png',bbox_inches='tight')"
   ]
  }
 ],
 "metadata": {
  "language_info": {
   "name": "python",
   "pygments_lexer": "ipython3"
  }
 },
 "nbformat": 4,
 "nbformat_minor": 5
}
