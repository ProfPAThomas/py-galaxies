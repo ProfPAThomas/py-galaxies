{
 "cells": [
  {
   "cell_type": "markdown",
   "id": "737759c1",
   "metadata": {},
   "source": [
    "# Script to read in and plot cooling tables"
   ]
  },
  {
   "cell_type": "code",
   "execution_count": null,
   "id": "40505c65",
   "metadata": {},
   "outputs": [],
   "source": [
    "import h5py\n",
    "import numpy as np\n",
    "import matplotlib.pyplot as plt\n",
    "%matplotlib inline\n",
    "import seaborn as sns\n",
    "sns.set_context('poster')\n",
    "sns.set_style('whitegrid')"
   ]
  },
  {
   "cell_type": "code",
   "execution_count": null,
   "id": "5ead3d47",
   "metadata": {},
   "outputs": [],
   "source": [
    "data=np.load('../aux_files/Lambda_table.npz')\n",
    "log10_T=data['log10_T']\n",
    "log10_Z=data['log10_Z']\n",
    "log10_Lambda=data['log10_Lambda']\n",
    "log10_Lambda.shape"
   ]
  },
  {
   "cell_type": "code",
   "execution_count": null,
   "id": "8451132a",
   "metadata": {},
   "outputs": [],
   "source": [
    "plt.figure(figsize=[12,8])\n",
    "plt.plot(log10_T,log10_Lambda[0,:],'-',label=r'$Z/Z_\\odot$ = {:.3g}'.format(10**log10_Z[0]/0.02))\n",
    "plt.plot(log10_T,log10_Lambda[4,:],'-',label=r'$Z/Z_\\odot$ = {:.3g}'.format(10**log10_Z[4]/0.02))\n",
    "plt.plot(log10_T,log10_Lambda[6,:],'-',label=r'$Z/Z_\\odot$ = {:.3g}'.format(10**log10_Z[6]/0.02))\n",
    "plt.xlabel(r'$\\log_{10}$(Temperature / K)')\n",
    "plt.ylabel(r'$\\log_{10}$(Lambda / erg cm$^3$ s$^{-1}$)')\n",
    "plt.legend()"
   ]
  },
  {
   "cell_type": "markdown",
   "id": "c63bb006",
   "metadata": {},
   "source": [
    "Seems to agree with other plots on Google."
   ]
  }
 ],
 "metadata": {
  "language_info": {
   "name": "python",
   "pygments_lexer": "ipython3"
  }
 },
 "nbformat": 4,
 "nbformat_minor": 5
}
