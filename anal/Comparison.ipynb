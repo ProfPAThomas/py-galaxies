{
 "cells": [
  {
   "cell_type": "code",
   "execution_count": null,
   "metadata": {},
   "outputs": [],
   "source": [
    "# Imports\n",
    "import astropy.constants as c\n",
    "import astropy.units as u\n",
    "import h5py\n",
    "h5py.enable_ipython_completer()\n",
    "import numpy as np\n",
    "import yaml\n",
    "import matplotlib\n",
    "import matplotlib.pyplot as plt\n",
    "%matplotlib inline\n",
    "import seaborn as sns\n",
    "sns.set_context('poster')\n",
    "sns.set_style('whitegrid')"
   ]
  },
  {
   "cell_type": "code",
   "execution_count": null,
   "metadata": {},
   "outputs": [],
   "source": [
    "# Script parameters\n",
    "file_parameters='comparison.yml'\n",
    "displayParameters=True\n",
    "\n",
    "# Read parameters from yaml file\n",
    "parameters=yaml.load(open(file_parameters),Loader=yaml.FullLoader)\n",
    "if displayParameters:\n",
    "    for item in parameters:\n",
    "        print(\"{:20s}: {}\".format(item,parameters[item]))\n",
    "\n",
    "haloFile1=parameters['inputFiles']['haloFile1']\n",
    "subFile1=parameters['inputFiles']['subhaloFile1']\n",
    "galFile1=parameters['inputFiles']['galaxyFile1']\n",
    "haloFile2=parameters['inputFiles']['haloFile2']\n",
    "subFile2=parameters['inputFiles']['subhaloFile2']\n",
    "galFile2=parameters['inputFiles']['galaxyFile2']\n",
    "save_prefix=parameters['save_prefix']\n",
    "graphMin=parameters['graphs']['graphMin']\n",
    "graphMax=parameters['graphs']['graphMax']\n",
    "snapMin=parameters['snapshots']['snapMin']\n",
    "snapMax=parameters['snapshots']['snapMax']"
   ]
  },
  {
   "cell_type": "code",
   "execution_count": null,
   "metadata": {},
   "outputs": [],
   "source": [
    "# Read in halo table\n",
    "with h5py.File(haloFile1,'r') as f:\n",
    "    # Get the data from the snapshot\n",
    "    halos1=f['Halos'][:]\n",
    "    \n",
    "# Read in subhalo table\n",
    "with h5py.File(subFile1,'r') as f:    \n",
    "    #Get the data from the snapshot\n",
    "    subs1=f['Halos'][:]\n",
    "    \n",
    "# Read in galaxy table\n",
    "with h5py.File(galFile1,'r') as f:    \n",
    "    #Get the data from the snapshot\n",
    "    gals1=f['Galaxies'][:]\n",
    "\n",
    "    # Read in halo table\n",
    "with h5py.File(haloFile2,'r') as f:\n",
    "    # Get the data from the snapshot\n",
    "    halos2=f['Halos'][:]\n",
    "    \n",
    "# Read in subhalo table\n",
    "with h5py.File(subFile2,'r') as f:    \n",
    "    #Get the data from the snapshot\n",
    "    subs2=f['Halos'][:]\n",
    "    \n",
    "# Read in galaxy table\n",
    "with h5py.File(galFile2,'r') as f:    \n",
    "    #Get the data from the snapshot\n",
    "    gals2=f['Galaxies'][:]"
   ]
  },
  {
   "cell_type": "code",
   "execution_count": null,
   "metadata": {},
   "outputs": [],
   "source": [
    "nhalo1=len(halos1)\n",
    "nhalo2=len(halos2)\n",
    "assert nhalo1==nhalo2\n",
    "nsub1=len(subs1)\n",
    "nsub2=len(subs2)\n",
    "assert nsub1==nsub2\n",
    "ngal1=len(gals1)\n",
    "ngal2=len(gals2)\n",
    "assert ngal1==ngal2"
   ]
  },
  {
   "cell_type": "code",
   "execution_count": null,
   "metadata": {},
   "outputs": [],
   "source": [
    "# Filter out the halos and subhalos in our selection.\n",
    "# Might be faster to include np.nonzero() on rhs, but this packages indices in a tuple\n",
    "mask=(graphMin<=halos1['graph_ID']) & (halos1['graph_ID']<=graphMax) & (snapMin<=halos1['snap_ID']) & (halos1['snap_ID']<=snapMax)\n",
    "halos1=halos1[mask]\n",
    "halos2=halos2[mask]\n",
    "#halos=halos[(graphMin<=halos['graph_ID']) & (halos['graph_ID']<=graphMax) & (snapMin<=halos['snap_ID']) & (halos['snap_ID']<=snapMax)]\n",
    "mask=(graphMin<=subs1['graph_ID']) & (subs1['graph_ID']<=graphMax) & (snapMin<=subs1['snap_ID']) & (subs1['snap_ID']<=snapMax)\n",
    "subs1=subs1[mask]\n",
    "subs2=subs2[mask]\n",
    "mask=(graphMin<=gals1['graph_ID']) & (gals1['graph_ID']<=graphMax) & (snapMin<=gals1['snap_ID']) & (gals1['snap_ID']<=snapMax) & gals1['b_exists']==True\n",
    "gals1=gals1[mask]\n",
    "gals2=gals2[mask]"
   ]
  },
  {
   "cell_type": "code",
   "execution_count": null,
   "metadata": {},
   "outputs": [],
   "source": [
    "for plot in parameters['plots'].items():\n",
    "    print(plot)\n",
    "    if plot[1]:\n",
    "        plotName=plot[0]\n",
    "        plotProps=parameters[plotName]\n",
    "        print(plotProps)\n",
    "        plt.figure(figsize=plotProps['figsize'])\n",
    "        plt.xscale(plotProps['xscale'])\n",
    "        plt.yscale(plotProps['yscale'])\n",
    "        plt.title(plotName)\n",
    "        plt.xlabel(plotProps['xlabel'])\n",
    "        plt.ylabel(plotProps['ylabel'])\n",
    "        if plotName=='coldGasMetallicity':\n",
    "            xdata=gals1['mass_metals_gas_cold']/gals1['mass_gas_cold']\n",
    "            ydata=gals2['mass_metals_gas_cold']/gals1['mass_gas_cold']\n",
    "        elif plotName=='hotGasSubhalo':\n",
    "            xdata=subs1['mass_gas_hot']\n",
    "            ydata=subs2['mass_gas_hot']\n",
    "        elif plotName=='stellarDiscRadius':\n",
    "            xdata=gals1['radius_stars_disc']\n",
    "            ydata=gals2['radius_stars_disc']\n",
    "        elif plotName=='stellarMass':\n",
    "            xdata=gals1['mass_stars_disc']+gals1['mass_stars_bulge']\n",
    "            ydata=gals2['mass_stars_disc']+gals2['mass_stars_bulge']\n",
    "        plt.plot(xdata,ydata,plotProps['markerType'],label=plotProps['label'])\n",
    "        plt.plot([min(xdata),max(xdata)],[min(xdata),max(xdata)],'k:')\n",
    "        if plotProps['legend']: plt.legend()\n",
    "        if plotProps['save_png']: plt.savefig('figs/'+save_prefix+plotProps['name']+'.png',bbox_inches='tight')\n",
    "        if plotProps['save_pdf']: plt.savefig('figs/'+save_prefix+plotProps['name']+'.pdf',bbox_inches='tight')"
   ]
  },
  {
   "cell_type": "code",
   "execution_count": null,
   "metadata": {},
   "outputs": [],
   "source": [
    "xdata"
   ]
  },
  {
   "cell_type": "code",
   "execution_count": null,
   "metadata": {},
   "outputs": [],
   "source": [
    "ydata"
   ]
  },
  {
   "cell_type": "code",
   "execution_count": null,
   "metadata": {},
   "outputs": [],
   "source": []
  }
 ],
 "metadata": {
  "language_info": {
   "name": "python",
   "pygments_lexer": "ipython3"
  }
 },
 "nbformat": 4,
 "nbformat_minor": 4
}
