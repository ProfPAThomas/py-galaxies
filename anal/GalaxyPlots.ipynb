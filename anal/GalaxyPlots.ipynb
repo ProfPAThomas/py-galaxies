{
 "cells": [
  {
   "cell_type": "markdown",
   "metadata": {},
   "source": [
    "# Galaxy plots\n",
    "\n",
    "This version matches galaxies with both subhalos and halos.  \n",
    "However at this stage, there are no properties stored in either subhalos or halos apart from mass (I think)."
   ]
  },
  {
   "cell_type": "code",
   "execution_count": null,
   "metadata": {},
   "outputs": [],
   "source": [
    "# Imports\n",
    "import astropy.constants as c\n",
    "import astropy.units as u\n",
    "import h5py\n",
    "h5py.enable_ipython_completer()\n",
    "import numpy as np\n",
    "import yaml\n",
    "import matplotlib\n",
    "import matplotlib.pyplot as plt\n",
    "%matplotlib inline\n",
    "import seaborn as sns\n",
    "sns.set_context('poster')\n",
    "sns.set_style('whitegrid')"
   ]
  },
  {
   "cell_type": "code",
   "execution_count": null,
   "metadata": {},
   "outputs": [],
   "source": [
    "# Script parameters\n",
    "file_parameters='galaxy.yml'\n",
    "displayParameters=True\n",
    "\n",
    "# Read parameters from yaml file\n",
    "parameters=yaml.load(open(file_parameters),Loader=yaml.FullLoader)\n",
    "if displayParameters:\n",
    "    for item in parameters:\n",
    "        print(\"{:20s}: {}\".format(item,parameters[item]))\n",
    "\n",
    "haloFile=parameters['inputFiles']['haloFile']\n",
    "subhaloFile=parameters['inputFiles']['subhaloFile']\n",
    "galaxyFile=parameters['inputFiles']['galaxyFile']\n",
    "graphMin=parameters['graphs']['graphMin']\n",
    "graphMax=parameters['graphs']['graphMax']\n",
    "snapMin=parameters['snapshots']['snapMin']\n",
    "snapMax=parameters['snapshots']['snapMax']\n",
    "baryonFraction=parameters['cosmo']['baryonFraction']"
   ]
  },
  {
   "cell_type": "code",
   "execution_count": null,
   "metadata": {},
   "outputs": [],
   "source": [
    "# Read in halo table\n",
    "with h5py.File(haloFile,'r') as f:\n",
    "    # Get the data from the snapshot\n",
    "    halos=f['Halos'][:]\n",
    "    print('halos.dtype =',halos.dtype)\n",
    "    \n",
    "# Read in subhalo table\n",
    "with h5py.File(subhaloFile,'r') as f:\n",
    "    # Get the data from the snapshot\n",
    "    subs=f['Halos'][:]\n",
    "    print('subs.dtype =',subs.dtype)\n",
    "\n",
    "# Read in galaxy table\n",
    "with h5py.File(galaxyFile,'r') as f:    \n",
    "    # Get the data from the snapshot\n",
    "    gals=f['Galaxies'][:]\n",
    "    print('gals.dtype =',gals.dtype)\n",
    "    # Get the starting locations of each graph in the galaxy table\n",
    "    graph_start=f['Graph_start_locations'][:]\n"
   ]
  },
  {
   "cell_type": "code",
   "execution_count": null,
   "metadata": {},
   "outputs": [],
   "source": [
    "# Filter out the galaxies in our selection.\n",
    "# Might be faster to include np.nonzero() on rhs, but this packages indices in a tuple\n",
    "gals=gals[(graphMin<=gals['graph_ID']) & (gals['graph_ID']<=graphMax) & \n",
    "            (snapMin<=gals['snap_ID']) & (gals['snap_ID']<=snapMax) & gals['b_exists']==True]\n",
    "n_gal=len(gals)"
   ]
  },
  {
   "cell_type": "code",
   "execution_count": null,
   "metadata": {},
   "outputs": [],
   "source": [
    "# Match up galaxies with subhalos and/or halos\n",
    "# Note that orphan galaxies can have no halo if there is no descendant for the host halo in the previous snap.\n",
    "# Note that orphan galaxies have no subhalo.\n",
    "b_first_warning=True\n",
    "halo_loc=np.zeros(n_gal,dtype=np.int32)\n",
    "sub_loc=np.zeros(n_gal,dtype=np.int32)\n",
    "mask_halo_exists=np.full(n_gal,True,dtype=bool)\n",
    "mask_sub_exists=np.full(n_gal,True,dtype=bool)\n",
    "for i_gal in range(n_gal):\n",
    "    matches=np.where(np.logical_and(halos['graph_ID']==gals['graph_ID'][i_gal],halos['halo_gid']==gals['halo_gid'][i_gal]))[0]\n",
    "    if len(matches)!=1:\n",
    "        mask_halo_exists[i_gal]=False\n",
    "    else:\n",
    "        halo_loc[i_gal]=matches[0]\n",
    "    matches=np.where(np.logical_and(subs['graph_ID']==gals['graph_ID'][i_gal],subs['sub_gid']==gals['sub_gid'][i_gal]))[0]   \n",
    "    if len(matches)!=1:\n",
    "        mask_sub_exists[i_gal]=False\n",
    "    else:\n",
    "        sub_loc[i_gal]=matches[0]\n",
    "halos=halos[halo_loc]\n",
    "subs=subs[sub_loc]"
   ]
  },
  {
   "cell_type": "code",
   "execution_count": null,
   "metadata": {},
   "outputs": [],
   "source": [
    "for plot in parameters['plots'].items():\n",
    "    print(plot)\n",
    "    if plot[1]:\n",
    "        plotName=plot[0]\n",
    "        plotProps=parameters[plotName]\n",
    "        print(plotProps)\n",
    "        plt.figure(figsize=plotProps['figsize'])\n",
    "        plt.xscale(plotProps['xscale'])\n",
    "        plt.yscale(plotProps['yscale'])\n",
    "        plt.title(plotName)\n",
    "        plt.xlabel(plotProps['xlabel'])\n",
    "        plt.ylabel(plotProps['ylabel'])\n",
    "        if plotName=='coldGas_halo':\n",
    "            xdata=halos['mass'][mask_halo_exists]\n",
    "            ydata=gals['mass_gas_cold'][mask_halo_exists]\n",
    "            plt.plot(xdata,xdata*baryonFraction,'-',label='cosmic mean baryon fraction')\n",
    "        elif plotName=='coldGas_subhalo':\n",
    "            xdata=subs['mass'][mask_sub_exists]\n",
    "            ydata=gals['mass_gas_cold'][mask_sub_exists]\n",
    "            plt.plot(xdata,xdata*baryonFraction,'-',label='cosmic mean baryon fraction')\n",
    "        elif plotName=='stellarMass':\n",
    "            xdata=subhalos['mass']\n",
    "            ydata=np.zeros(len(subhalos))\n",
    "            for i_sub in range(len(subhalos)):\n",
    "                ydata[i_sub]=np.sum(galaxies['mass_stars'][np.where(galaxies['sub_gid']==subhalos['sub_gid'][i_sub])])\n",
    "            plt.grid(which='minor',visible=True)\n",
    "        elif plotName=='stellarHaloMassRatio':\n",
    "            xdata=subhalos['mass']\n",
    "            ydata=np.zeros(len(subhalos))\n",
    "            for i_sub in range(len(subhalos)):\n",
    "                ydata[i_sub]=np.sum(galaxies['mass_stars'][np.where(galaxies['sub_gid']==subhalos['sub_gid'][i_sub])])\n",
    "            ydata=ydata/subhalos['mass']\n",
    "#         elif plotName=='starFormationRate':\n",
    "#             xdata=halos['mass']\n",
    "#             ydata=halos['star_formation_rate']\n",
    "        else:\n",
    "            print('Plot type',plotName,'not yet implemented')\n",
    "            continue # with next plot request\n",
    "        plt.plot(xdata,ydata,plotProps['markerType'],label=plotProps['label'])\n",
    "        if plotProps['legend']: plt.legend()\n",
    "        if plotProps['save_png']: plt.savefig('figs/'+plotProps['name']+'.png',bbox_inches='tight')\n",
    "        if plotProps['save_pdf']: plt.savefig('figs/'+plotProps['name']+'.pdf',bbox_inches='tight')"
   ]
  },
  {
   "cell_type": "code",
   "execution_count": null,
   "metadata": {},
   "outputs": [],
   "source": [
    "i_gal=np.where(np.logical_and(ydata>1e-10,ydata<10))[0]\n",
    "print(gals.dtype)\n",
    "print((gals[mask_halo_exists])[i_gal])"
   ]
  },
  {
   "cell_type": "code",
   "execution_count": null,
   "metadata": {},
   "outputs": [],
   "source": [
    "len(gals)"
   ]
  },
  {
   "cell_type": "code",
   "execution_count": null,
   "metadata": {},
   "outputs": [],
   "source": []
  }
 ],
 "metadata": {
  "language_info": {
   "name": "python",
   "pygments_lexer": "ipython3"
  }
 },
 "nbformat": 4,
 "nbformat_minor": 4
}
