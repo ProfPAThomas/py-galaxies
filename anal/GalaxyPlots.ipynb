{
 "cells": [
  {
   "cell_type": "markdown",
   "metadata": {},
   "source": [
    "# Galaxy plots\n",
    "\n",
    "This version matches galaxies with both subhalos and halos.  \n",
    "However at this stage, there are no properties stored in either subhalos or halos apart from mass (I think)."
   ]
  },
  {
   "cell_type": "code",
   "execution_count": null,
   "metadata": {},
   "outputs": [],
   "source": [
    "# Imports\n",
    "import astropy.constants as c\n",
    "import astropy.units as u\n",
    "import h5py\n",
    "h5py.enable_ipython_completer()\n",
    "import numpy as np\n",
    "import yaml\n",
    "import matplotlib\n",
    "import matplotlib.pyplot as plt\n",
    "%matplotlib inline\n",
    "import seaborn as sns\n",
    "sns.set_context('poster')\n",
    "sns.set_style('whitegrid')"
   ]
  },
  {
   "cell_type": "code",
   "execution_count": null,
   "metadata": {},
   "outputs": [],
   "source": [
    "# Script parameters\n",
    "file_parameters='galaxy.yml'\n",
    "displayParameters=True\n",
    "\n",
    "# Read parameters from yaml file\n",
    "parameters=yaml.load(open(file_parameters),Loader=yaml.FullLoader)\n",
    "if displayParameters:\n",
    "    for item in parameters:\n",
    "        print(\"{:20s}: {}\".format(item,parameters[item]))\n",
    "\n",
    "haloFile=parameters['inputFiles']['haloFile']\n",
    "subhaloFile=parameters['inputFiles']['subhaloFile']\n",
    "galaxyFile=parameters['inputFiles']['galaxyFile']\n",
    "graphMin=parameters['graphs']['graphMin']\n",
    "graphMax=parameters['graphs']['graphMax']\n",
    "snapMin=parameters['snapshots']['snapMin']\n",
    "snapMax=parameters['snapshots']['snapMax']\n",
    "baryonFraction=parameters['cosmo']['baryonFraction']"
   ]
  },
  {
   "cell_type": "code",
   "execution_count": null,
   "metadata": {},
   "outputs": [],
   "source": [
    "# Read in halo table\n",
    "with h5py.File(haloFile,'r') as f:\n",
    "    #Get the data from the snapshot\n",
    "    halos=f['Halos'][:]\n",
    "print('halos.dtype =',halos.dtype)\n",
    "    \n",
    "# Read in subhalo table\n",
    "with h5py.File(subhaloFile,'r') as f:\n",
    "    #Get the data from the snapshot\n",
    "    subhalos=f['Halos'][:]\n",
    "print('subhalos.dtype =',subhalos.dtype)\n",
    "\n",
    "# Read in galaxy table\n",
    "with h5py.File(galaxyFile,'r') as f:    \n",
    "    #Get the data from the snapshot\n",
    "    galaxies=f['Galaxies'][:]\n",
    "print('galaxies.dtype =',galaxies.dtype)"
   ]
  },
  {
   "cell_type": "code",
   "execution_count": null,
   "metadata": {},
   "outputs": [],
   "source": [
    "# Filter out the halos, subhalos and galaxies in our selection.\n",
    "# Might be faster to include np.nonzero() on rhs, but this packages indices in a tuple\n",
    "halos=halos[(graphMin<=halos['graph_ID']) & (halos['graph_ID']<=graphMax) & \n",
    "            (snapMin<=halos['snap_ID']) & (halos['snap_ID']<=snapMax)]\n",
    "subhalos=subhalos[(graphMin<=subhalos['graph_ID']) & (subhalos['graph_ID']<=graphMax) & \n",
    "            (snapMin<=subhalos['snap_ID']) & (subhalos['snap_ID']<=snapMax)]\n",
    "galaxies=galaxies[(graphMin<=galaxies['graph_ID']) & (galaxies['graph_ID']<=graphMax) & \n",
    "            (snapMin<=galaxies['snap_ID']) & (galaxies['snap_ID']<=snapMax)]"
   ]
  },
  {
   "cell_type": "code",
   "execution_count": null,
   "metadata": {},
   "outputs": [],
   "source": [
    "# Match up galaxies with subhalos and/or halos\n",
    "sub_ID_loc=np.where(np.logical_and(galaxies['sub_ID']==subhalos['sub_ID'],galaxies['halo_ID']==halos['halo_ID']))[0]\n"
   ]
  },
  {
   "cell_type": "code",
   "execution_count": null,
   "metadata": {},
   "outputs": [],
   "source": [
    "print(halos['halo_ID'])\n",
    "print(galaxies['halo_ID'])\n",
    "print(subhalos['sub_ID'])\n",
    "print(galaxies['sub_ID'])"
   ]
  },
  {
   "cell_type": "code",
   "execution_count": null,
   "metadata": {},
   "outputs": [],
   "source": [
    "for plot in parameters['plots'].items():\n",
    "    print(plot)\n",
    "    if plot[1]:\n",
    "        plotName=plot[0]\n",
    "        plotProps=parameters[plotName]\n",
    "        print(plotProps)\n",
    "        plt.figure(figsize=plotProps['figsize'])\n",
    "        plt.xscale(plotProps['xscale'])\n",
    "        plt.yscale(plotProps['yscale'])\n",
    "        plt.title(plotName)\n",
    "        plt.xlabel(plotProps['xlabel'])\n",
    "        plt.ylabel(plotProps['ylabel'])\n",
    "        if plotName=='baryonFraction':\n",
    "            xdata=halos['mass']\n",
    "            ydata=halos['mass_baryon']/halos['mass']\n",
    "            plt.plot(xdata,0.*xdata+baryonFraction,'-')\n",
    "        elif plotName=='stellarHaloMassRatio':\n",
    "            xdata=halos['mass']\n",
    "            ydata=halos['mass_stars']/halos['mass']\n",
    "        elif plotName=='starFormationRate':\n",
    "            xdata=halos['mass']\n",
    "            ydata=halos['star_formation_rate']\n",
    "        else:\n",
    "            print('Plot type',plotName,'not yet implemented')\n",
    "            continue # with next plot request\n",
    "        plt.plot(xdata,ydata,plotProps['markerType'])"
   ]
  },
  {
   "cell_type": "code",
   "execution_count": null,
   "metadata": {},
   "outputs": [],
   "source": [
    "baryonFraction"
   ]
  },
  {
   "cell_type": "code",
   "execution_count": null,
   "metadata": {},
   "outputs": [],
   "source": []
  }
 ],
 "metadata": {
  "language_info": {
   "name": "python",
   "pygments_lexer": "ipython3"
  }
 },
 "nbformat": 4,
 "nbformat_minor": 4
}
