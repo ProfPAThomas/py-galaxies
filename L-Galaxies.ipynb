{
 "cells": [
  {
   "cell_type": "markdown",
   "metadata": {},
   "source": [
    "# Python implementation of L-Galaxies\n",
    "\n",
    "This is a playground to test out the possibility of using `python` as an interface into L-Galaxies."
   ]
  },
  {
   "cell_type": "code",
   "execution_count": null,
   "metadata": {},
   "outputs": [],
   "source": [
    "# Imports\n",
    "import astropy.constants as c\n",
    "import astropy.units as u\n",
    "import gc\n",
    "import h5py\n",
    "h5py.enable_ipython_completer()\n",
    "import numpy as np\n",
    "import yaml\n",
    "import matplotlib\n",
    "import matplotlib.pyplot as plt\n",
    "%matplotlib inline\n",
    "import seaborn as sns\n",
    "sns.set_context('notebook')\n",
    "sns.set_style('whitegrid')"
   ]
  },
  {
   "cell_type": "code",
   "execution_count": null,
   "metadata": {},
   "outputs": [],
   "source": [
    "# Script parameters\n",
    "file_parameters='input/input.yml'\n",
    "displayParameters=True"
   ]
  },
  {
   "cell_type": "code",
   "execution_count": null,
   "metadata": {},
   "outputs": [],
   "source": [
    "# Read in parameters, graph file, etc.\n",
    "\n",
    "parameters=yaml.load(open(file_parameters),Loader=yaml.FullLoader)\n",
    "if displayParameters:\n",
    "    for item in parameters:\n",
    "        print(\"{:20s}: {}\".format(item,parameters[item]))\n",
    "\n",
    "graphFile=parameters['inputFiles']['graphFile']\n",
    "graphData=h5py.File(graphFile,'r')"
   ]
  },
  {
   "cell_type": "markdown",
   "metadata": {},
   "source": [
    "## Data structure for halos\n",
    "\n",
    "This is an interesting problem.  We have many requirements:\n",
    "- Must be fast – does this remove the possibility of using objects?\n",
    "- Must be flexible enough to respond to parameter choices (ideally at run time).\n",
    "- Must allow for variable-length arrays – I think that each halo will individually need to track what fraction of material it inherits from each progenitor.\n",
    "\n",
    "I think that the object-oriented way of doing it, as below, can easily adapt to run-time choices because it does not use long arrays.\n",
    "I have initially coded it using lists of haloProperties.  There is a numpy.object dtype that would allow one to make that numpy arrays but I don't know if it offers any performance advantages or disadvantages.\n",
    "This is all very far from the current method that we have in L-Galaxies of defining a galaxy structure at compile time.\n",
    "\n",
    "The numpy objects can have arbitrary data added to them, but again I don't know if this flexibility means that they will be very slow (due to having to continually shift things aroudn in memory)."
   ]
  },
  {
   "cell_type": "code",
   "execution_count": null,
   "metadata": {},
   "outputs": [],
   "source": [
    "class haloProperties:\n",
    "    # Constructor.\n",
    "    def __init__(self,snap,haloID):\n",
    "        self.snap=snap\n",
    "        self.haloID=haloID"
   ]
  },
  {
   "cell_type": "markdown",
   "metadata": {},
   "source": [
    "## Functions\n",
    "\n",
    "Most of the work to be done in external routines, probably to be coded in C for efficiency.\n",
    "\n",
    "Here we just include the high-level driver routines."
   ]
  },
  {
   "cell_type": "code",
   "execution_count": null,
   "metadata": {},
   "outputs": [],
   "source": [
    "# Processing halos \n",
    "def processHalo(halo)\n",
    "    if doneHalo[halo]=True: return\n",
    "    readProperties(halo)\n",
    "    # Check that progenitors have been processed\n",
    "    for progHalo in haloProperties_thisSnap[halo].prog:\n",
    "        # This is the iterative way to do it.  But could lead to excessive storage.\n",
    "        # if not doneHalo[progHalo]: processHalo(progHalo) \n",
    "        # Better simply to process in snapshot order.  In which case:\n",
    "        assert(doneHalo[progHalo])\n",
    "    gatherProgenitors(halo)\n",
    "    fixBaryonFraction(halo)\n",
    "    fixStellarFraction(halo) # Dummy routine.\n",
    "    outputHalo(halo)         # Is this the right place to do this?\n",
    "    doneHalo[halo]=True\n",
    "    \n",
    "def readProperties(halo):\n",
    "    # Reads halo properties from the input graph file\n",
    "\n",
    "def gatherProgenitors(halo):\n",
    "    # "
   ]
  },
  {
   "cell_type": "markdown",
   "metadata": {},
   "source": [
    "## Main routine"
   ]
  },
  {
   "cell_type": "code",
   "execution_count": null,
   "metadata": {},
   "outputs": [],
   "source": [
    "# Some dummy input just to test structure\n",
    "graphs=np.array([0,1,2,3,4,5])\n",
    "snaps=np.array([2,3,4,5,6])\n",
    "nHaloSnap=5\n",
    "nHalo=nHaloSnap*len(snaps)"
   ]
  },
  {
   "cell_type": "code",
   "execution_count": null,
   "metadata": {},
   "outputs": [],
   "source": [
    "# Iteratively loop over halos, doing whatever processing is required.\n",
    "# This assumes that halos properties depend only upon those halos in \n",
    "# their immediate past in the merger graph.\n",
    "\n",
    "# Note: no attempt here to include sub-halos.  Let's get halos right\n",
    "# first!\n",
    "\n",
    "# Note: this is currently written in pseudo-code.\n",
    "# Convert to real code once we have the structure right.\n",
    "\n",
    "# Note that we need to know the number of halos and these\n",
    "# need to be identified some way with unique IDs\n",
    "\n",
    "# Initialise halos as not done\n",
    "# nHalo = graphData['nHalo']\n",
    "doneHalo = np.full(nHalo,False,dtype=np.bool)\n",
    "\n",
    "# Loop over MergerGraphs.\n",
    "for graph in graphs:\n",
    "    # Loop over snapshots from first to last.\n",
    "    haloProperties_lastSnap = None\n",
    "    for snap in snaps:\n",
    "        #nHaloSnap = graph[snap]['nHalo']\n",
    "        # initialise the halos in this snapshot\n",
    "        # How do we define an array of classes?  For now, use a list\n",
    "        haloProperties_thisSnap=[haloProperties(snap,iHalo) for iHalo in range(nHaloSnap)]\n",
    "        # Loop over halos in snapshot.\n",
    "        # The check for the halo not being done is required for the iterative method\n",
    "        # for halo in graph[snap]['Halos']:\n",
    "        #     if not doneHalo[halo]: processHalo(halo)\n",
    "        # Once all halos have been done, update reference to lastSnap (and hence free memory)\n",
    "        # To be on the safe side, first del and call the garbage collector (probably not necessary)\n",
    "        #del haloProperties_lastSnap\n",
    "        #gc.collect()\n",
    "        haloProperties_lastSnap=haloProperties_thisSnap\n",
    "        # Delete reference to this memoery to free variable for new use.\n",
    "        del haloProperties_thisSnap      "
   ]
  },
  {
   "cell_type": "code",
   "execution_count": null,
   "metadata": {},
   "outputs": [],
   "source": [
    "print(list(haloProperties_thisSnap[i].haloID for i in range(nHaloSnap)))\n",
    "print(list(haloProperties_lastSnap[i].haloID for i in range(nHaloSnap)))"
   ]
  },
  {
   "cell_type": "code",
   "execution_count": null,
   "metadata": {},
   "outputs": [],
   "source": [
    "graphData['0']['009']"
   ]
  },
  {
   "cell_type": "code",
   "execution_count": null,
   "metadata": {},
   "outputs": [],
   "source": []
  }
 ],
 "metadata": {
  "language_info": {
   "name": "python",
   "pygments_lexer": "ipython3"
  }
 },
 "nbformat": 4,
 "nbformat_minor": 2
}
